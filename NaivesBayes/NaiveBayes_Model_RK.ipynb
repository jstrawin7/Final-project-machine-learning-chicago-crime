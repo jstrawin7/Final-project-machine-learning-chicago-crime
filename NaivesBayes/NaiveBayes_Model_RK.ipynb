{
 "cells": [
  {
   "cell_type": "markdown",
   "metadata": {},
   "source": [
    "## Predictive Policing for Chicago - Naive Bayes Algorithm - Ramesh Kalagnanam"
   ]
  },
  {
   "cell_type": "markdown",
   "metadata": {},
   "source": [
    "In this effort we are analysing the Chicago Crime data set. Preparing the data set for machine learning, training and testing the model. Then drawing up a confusion matrix and classification report for each algorithm to predict if the crime would result in an arrest.\n",
    "\n",
    "Dataset description:\n",
    "ID - Unique identifier for the record.\n",
    "\n",
    "Case Number - The Chicago Police Department RD Number (Records Division Number), which is unique to the incident.\n",
    "\n",
    "Date - Date when the incident occurred. this is sometimes a best estimate.\n",
    "\n",
    "Block - The partially redacted address where the incident occurred, placing it on the same block as the actual address.\n",
    "\n",
    "IUCR - The Illinois Unifrom Crime Reporting code. This is directly linked to the Primary Type and Description. See the list of IUCR codes at https://data.cityofchicago.org/d/c7ck-438e.\n",
    "\n",
    "Primary Type - The primary description of the IUCR code.\n",
    "\n",
    "Description - The secondary description of the IUCR code, a subcategory of the primary description.\n",
    "\n",
    "Location Description - Description of the location where the incident occurred.\n",
    "\n",
    "Arrest - Indicates whether an arrest was made.\n",
    "\n",
    "Domestic - Indicates whether the incident was domestic-related as defined by the Illinois Domestic Violence Act.\n",
    "\n",
    "Beat - Indicates the beat where the incident occurred. A beat is the smallest police geographic area – each beat has a dedicated police beat car. Three to five beats make up a police sector, and three sectors make up a police district. The Chicago Police Department has 22 police districts. See the beats at https://data.cityofchicago.org/d/aerh-rz74.\n",
    "\n",
    "District - Indicates the police district where the incident occurred. See the districts at https://data.cityofchicago.org/d/fthy-xz3r.\n",
    "\n",
    "Ward - The ward (City Council district) where the incident occurred. See the wards at https://data.cityofchicago.org/d/sp34-6z76.\n",
    "\n",
    "Community Area - Indicates the community area where the incident occurred. Chicago has 77 community areas. See the community areas at https://data.cityofchicago.org/d/cauq-8yn6.\n",
    "\n",
    "FBI Code - Indicates the crime classification as outlined in the FBI's National Incident-Based Reporting System (NIBRS). See the Chicago Police Department listing of these classifications at http://gis.chicagopolice.org/clearmap_crime_sums/crime_types.html.\n",
    "\n",
    "X Coordinate - The x coordinate of the location where the incident occurred in State Plane Illinois East NAD 1983 projection. This location is shifted from the actual location for partial redaction but falls on the same block.\n",
    "\n",
    "Y Coordinate - The y coordinate of the location where the incident occurred in State Plane Illinois East NAD 1983 projection. This location is shifted from the actual location for partial redaction but falls on the same block.\n",
    "\n",
    "Year - Year the incident occurred.\n",
    "\n",
    "Updated On - Date and time the record was last updated.\n",
    "\n",
    "Latitude - The latitude of the location where the incident occurred. This location is shifted from the actual location for partial redaction but falls on the same block.\n",
    "\n",
    "Longitude - The longitude of the location where the incident occurred. This location is shifted from the actual location for partial redaction but falls on the same block.\n",
    "\n",
    "Location - The location where the incident occurred in a format that allows for creation of maps and other geographic operations on this data portal. This location is shifted from the actual location for partial redaction but falls on the same block.\n",
    "\n",
    "Features of Interest:\n",
    "\n",
    "Algorithm choices and their accuracy derived by training and testing:\n",
    "\n"
   ]
  },
  {
   "cell_type": "markdown",
   "metadata": {},
   "source": [
    "## Import required packages"
   ]
  },
  {
   "cell_type": "code",
   "execution_count": 1,
   "metadata": {},
   "outputs": [],
   "source": [
    "%matplotlib inline\n",
    "\n",
    "import matplotlib.pyplot as plt\n",
    "import pandas as pd\n",
    "import numpy as np\n",
    "\n",
    "from IPython.display import IFrame\n",
    "from IPython.core.display import display\n",
    "import os\n",
    "import time\n",
    "import seaborn as sns"
   ]
  },
  {
   "cell_type": "markdown",
   "metadata": {},
   "source": [
    "### Data have been prepared originally by Divya (and she is modestly refusing to let me give her credit) and this application modifies it to include Month as well as sin_month and cos_month for this analysis #####"
   ]
  },
  {
   "cell_type": "markdown",
   "metadata": {},
   "source": [
    "## Splitting the data for testing and training."
   ]
  },
  {
   "cell_type": "code",
   "execution_count": 2,
   "metadata": {},
   "outputs": [],
   "source": [
    "#Define a function to read the crime data into a dataframe for logistical classification modeling\n",
    "\n",
    "def read_crime_data():\n",
    "    \n",
    "    file = os.path.join('Resources','prepared_data_MLXY_500.csv')\n",
    "    crime_df = pd.read_csv(file)\n",
    "    return crime_df"
   ]
  },
  {
   "cell_type": "code",
   "execution_count": 3,
   "metadata": {},
   "outputs": [
    {
     "data": {
      "text/html": [
       "<div>\n",
       "<style scoped>\n",
       "    .dataframe tbody tr th:only-of-type {\n",
       "        vertical-align: middle;\n",
       "    }\n",
       "\n",
       "    .dataframe tbody tr th {\n",
       "        vertical-align: top;\n",
       "    }\n",
       "\n",
       "    .dataframe thead th {\n",
       "        text-align: right;\n",
       "    }\n",
       "</style>\n",
       "<table border=\"1\" class=\"dataframe\">\n",
       "  <thead>\n",
       "    <tr style=\"text-align: right;\">\n",
       "      <th></th>\n",
       "      <th>ID</th>\n",
       "      <th>Date</th>\n",
       "      <th>IUCR</th>\n",
       "      <th>CrimeType</th>\n",
       "      <th>LocationDescription</th>\n",
       "      <th>Arrest</th>\n",
       "      <th>Domestic</th>\n",
       "      <th>Ward</th>\n",
       "      <th>CommunityArea</th>\n",
       "      <th>FBICode</th>\n",
       "      <th>...</th>\n",
       "      <th>PoliceDistricts</th>\n",
       "      <th>PoliceBeats</th>\n",
       "      <th>OnlyDate</th>\n",
       "      <th>Time</th>\n",
       "      <th>time_hour</th>\n",
       "      <th>hourofday</th>\n",
       "      <th>sin_time</th>\n",
       "      <th>cos_time</th>\n",
       "      <th>XAxis</th>\n",
       "      <th>YAxis</th>\n",
       "    </tr>\n",
       "  </thead>\n",
       "  <tbody>\n",
       "    <tr>\n",
       "      <th>0</th>\n",
       "      <td>11858344</td>\n",
       "      <td>10/12/2019 8:00</td>\n",
       "      <td>820</td>\n",
       "      <td>THEFT</td>\n",
       "      <td>STREET</td>\n",
       "      <td>0</td>\n",
       "      <td>0</td>\n",
       "      <td>35</td>\n",
       "      <td>16</td>\n",
       "      <td>6</td>\n",
       "      <td>...</td>\n",
       "      <td>1</td>\n",
       "      <td>20</td>\n",
       "      <td>10/12/2019</td>\n",
       "      <td>8:00:00 AM</td>\n",
       "      <td>8:00:00</td>\n",
       "      <td>8</td>\n",
       "      <td>0.81697</td>\n",
       "      <td>-0.57668</td>\n",
       "      <td>1152059</td>\n",
       "      <td>1924617</td>\n",
       "    </tr>\n",
       "    <tr>\n",
       "      <th>1</th>\n",
       "      <td>11859895</td>\n",
       "      <td>10/12/2019 8:00</td>\n",
       "      <td>1310</td>\n",
       "      <td>CRIMINAL DAMAGE</td>\n",
       "      <td>RESIDENCE</td>\n",
       "      <td>0</td>\n",
       "      <td>0</td>\n",
       "      <td>6</td>\n",
       "      <td>68</td>\n",
       "      <td>14</td>\n",
       "      <td>...</td>\n",
       "      <td>17</td>\n",
       "      <td>214</td>\n",
       "      <td>10/12/2019</td>\n",
       "      <td>8:00:00 AM</td>\n",
       "      <td>8:00:00</td>\n",
       "      <td>8</td>\n",
       "      <td>0.81697</td>\n",
       "      <td>-0.57668</td>\n",
       "      <td>1174167</td>\n",
       "      <td>1858167</td>\n",
       "    </tr>\n",
       "    <tr>\n",
       "      <th>2</th>\n",
       "      <td>11862656</td>\n",
       "      <td>10/12/2019 8:00</td>\n",
       "      <td>1310</td>\n",
       "      <td>CRIMINAL DAMAGE</td>\n",
       "      <td>SCHOOL, PUBLIC, GROUNDS</td>\n",
       "      <td>0</td>\n",
       "      <td>0</td>\n",
       "      <td>45</td>\n",
       "      <td>11</td>\n",
       "      <td>14</td>\n",
       "      <td>...</td>\n",
       "      <td>12</td>\n",
       "      <td>58</td>\n",
       "      <td>10/12/2019</td>\n",
       "      <td>8:00:00 AM</td>\n",
       "      <td>8:00:00</td>\n",
       "      <td>8</td>\n",
       "      <td>0.81697</td>\n",
       "      <td>-0.57668</td>\n",
       "      <td>1140791</td>\n",
       "      <td>1932993</td>\n",
       "    </tr>\n",
       "    <tr>\n",
       "      <th>3</th>\n",
       "      <td>11858725</td>\n",
       "      <td>10/12/2019 8:00</td>\n",
       "      <td>610</td>\n",
       "      <td>BURGLARY</td>\n",
       "      <td>RESIDENCE</td>\n",
       "      <td>0</td>\n",
       "      <td>0</td>\n",
       "      <td>34</td>\n",
       "      <td>75</td>\n",
       "      <td>5</td>\n",
       "      <td>...</td>\n",
       "      <td>9</td>\n",
       "      <td>263</td>\n",
       "      <td>10/12/2019</td>\n",
       "      <td>8:00:00 AM</td>\n",
       "      <td>8:00:00</td>\n",
       "      <td>8</td>\n",
       "      <td>0.81697</td>\n",
       "      <td>-0.57668</td>\n",
       "      <td>1169388</td>\n",
       "      <td>1832816</td>\n",
       "    </tr>\n",
       "    <tr>\n",
       "      <th>4</th>\n",
       "      <td>11860087</td>\n",
       "      <td>10/12/2019 8:00</td>\n",
       "      <td>870</td>\n",
       "      <td>THEFT</td>\n",
       "      <td>OTHER</td>\n",
       "      <td>0</td>\n",
       "      <td>0</td>\n",
       "      <td>24</td>\n",
       "      <td>29</td>\n",
       "      <td>6</td>\n",
       "      <td>...</td>\n",
       "      <td>21</td>\n",
       "      <td>155</td>\n",
       "      <td>10/12/2019</td>\n",
       "      <td>8:00:00 AM</td>\n",
       "      <td>8:00:00</td>\n",
       "      <td>8</td>\n",
       "      <td>0.81697</td>\n",
       "      <td>-0.57668</td>\n",
       "      <td>1149926</td>\n",
       "      <td>1893578</td>\n",
       "    </tr>\n",
       "  </tbody>\n",
       "</table>\n",
       "<p>5 rows × 29 columns</p>\n",
       "</div>"
      ],
      "text/plain": [
       "         ID             Date  IUCR        CrimeType      LocationDescription  \\\n",
       "0  11858344  10/12/2019 8:00   820            THEFT                   STREET   \n",
       "1  11859895  10/12/2019 8:00  1310  CRIMINAL DAMAGE                RESIDENCE   \n",
       "2  11862656  10/12/2019 8:00  1310  CRIMINAL DAMAGE  SCHOOL, PUBLIC, GROUNDS   \n",
       "3  11858725  10/12/2019 8:00   610         BURGLARY                RESIDENCE   \n",
       "4  11860087  10/12/2019 8:00   870            THEFT                    OTHER   \n",
       "\n",
       "   Arrest  Domestic  Ward  CommunityArea FBICode  ...  PoliceDistricts  \\\n",
       "0       0         0    35             16       6  ...                1   \n",
       "1       0         0     6             68      14  ...               17   \n",
       "2       0         0    45             11      14  ...               12   \n",
       "3       0         0    34             75       5  ...                9   \n",
       "4       0         0    24             29       6  ...               21   \n",
       "\n",
       "  PoliceBeats    OnlyDate        Time  time_hour  hourofday  sin_time  \\\n",
       "0          20  10/12/2019  8:00:00 AM    8:00:00          8   0.81697   \n",
       "1         214  10/12/2019  8:00:00 AM    8:00:00          8   0.81697   \n",
       "2          58  10/12/2019  8:00:00 AM    8:00:00          8   0.81697   \n",
       "3         263  10/12/2019  8:00:00 AM    8:00:00          8   0.81697   \n",
       "4         155  10/12/2019  8:00:00 AM    8:00:00          8   0.81697   \n",
       "\n",
       "   cos_time    XAxis    YAxis  \n",
       "0  -0.57668  1152059  1924617  \n",
       "1  -0.57668  1174167  1858167  \n",
       "2  -0.57668  1140791  1932993  \n",
       "3  -0.57668  1169388  1832816  \n",
       "4  -0.57668  1149926  1893578  \n",
       "\n",
       "[5 rows x 29 columns]"
      ]
     },
     "execution_count": 3,
     "metadata": {},
     "output_type": "execute_result"
    }
   ],
   "source": [
    "#Define a dataframe by calling the function used defined for reading the file into a dataframe\n",
    "\n",
    "crime_data_df = read_crime_data()\n",
    "\n",
    "#Display the top five rows/records of the dataframe\n",
    "\n",
    "crime_data_df.head()"
   ]
  },
  {
   "cell_type": "code",
   "execution_count": 4,
   "metadata": {},
   "outputs": [
    {
     "data": {
      "text/plain": [
       "(1048575, 29)"
      ]
     },
     "execution_count": 4,
     "metadata": {},
     "output_type": "execute_result"
    }
   ],
   "source": [
    "# Print the number of Rows in the Data Frame\n",
    "\n",
    "crime_data_df.shape"
   ]
  },
  {
   "cell_type": "code",
   "execution_count": 5,
   "metadata": {},
   "outputs": [
    {
     "data": {
      "text/html": [
       "<div>\n",
       "<style scoped>\n",
       "    .dataframe tbody tr th:only-of-type {\n",
       "        vertical-align: middle;\n",
       "    }\n",
       "\n",
       "    .dataframe tbody tr th {\n",
       "        vertical-align: top;\n",
       "    }\n",
       "\n",
       "    .dataframe thead th {\n",
       "        text-align: right;\n",
       "    }\n",
       "</style>\n",
       "<table border=\"1\" class=\"dataframe\">\n",
       "  <thead>\n",
       "    <tr style=\"text-align: right;\">\n",
       "      <th></th>\n",
       "      <th>ID</th>\n",
       "      <th>Date</th>\n",
       "      <th>IUCR</th>\n",
       "      <th>CrimeType</th>\n",
       "      <th>LocationDescription</th>\n",
       "      <th>Arrest</th>\n",
       "      <th>Domestic</th>\n",
       "      <th>Ward</th>\n",
       "      <th>CommunityArea</th>\n",
       "      <th>FBICode</th>\n",
       "      <th>...</th>\n",
       "      <th>PoliceBeats</th>\n",
       "      <th>OnlyDate</th>\n",
       "      <th>Time</th>\n",
       "      <th>time_hour</th>\n",
       "      <th>hourofday</th>\n",
       "      <th>sin_time</th>\n",
       "      <th>cos_time</th>\n",
       "      <th>XAxis</th>\n",
       "      <th>YAxis</th>\n",
       "      <th>Month</th>\n",
       "    </tr>\n",
       "  </thead>\n",
       "  <tbody>\n",
       "    <tr>\n",
       "      <th>0</th>\n",
       "      <td>11858344</td>\n",
       "      <td>10/12/2019 8:00</td>\n",
       "      <td>820</td>\n",
       "      <td>THEFT</td>\n",
       "      <td>STREET</td>\n",
       "      <td>0</td>\n",
       "      <td>0</td>\n",
       "      <td>35</td>\n",
       "      <td>16</td>\n",
       "      <td>6</td>\n",
       "      <td>...</td>\n",
       "      <td>20</td>\n",
       "      <td>10/12/2019</td>\n",
       "      <td>8:00:00 AM</td>\n",
       "      <td>8:00:00</td>\n",
       "      <td>8</td>\n",
       "      <td>0.81697</td>\n",
       "      <td>-0.57668</td>\n",
       "      <td>1152059</td>\n",
       "      <td>1924617</td>\n",
       "      <td>10.0</td>\n",
       "    </tr>\n",
       "    <tr>\n",
       "      <th>1</th>\n",
       "      <td>11859895</td>\n",
       "      <td>10/12/2019 8:00</td>\n",
       "      <td>1310</td>\n",
       "      <td>CRIMINAL DAMAGE</td>\n",
       "      <td>RESIDENCE</td>\n",
       "      <td>0</td>\n",
       "      <td>0</td>\n",
       "      <td>6</td>\n",
       "      <td>68</td>\n",
       "      <td>14</td>\n",
       "      <td>...</td>\n",
       "      <td>214</td>\n",
       "      <td>10/12/2019</td>\n",
       "      <td>8:00:00 AM</td>\n",
       "      <td>8:00:00</td>\n",
       "      <td>8</td>\n",
       "      <td>0.81697</td>\n",
       "      <td>-0.57668</td>\n",
       "      <td>1174167</td>\n",
       "      <td>1858167</td>\n",
       "      <td>10.0</td>\n",
       "    </tr>\n",
       "    <tr>\n",
       "      <th>2</th>\n",
       "      <td>11862656</td>\n",
       "      <td>10/12/2019 8:00</td>\n",
       "      <td>1310</td>\n",
       "      <td>CRIMINAL DAMAGE</td>\n",
       "      <td>SCHOOL, PUBLIC, GROUNDS</td>\n",
       "      <td>0</td>\n",
       "      <td>0</td>\n",
       "      <td>45</td>\n",
       "      <td>11</td>\n",
       "      <td>14</td>\n",
       "      <td>...</td>\n",
       "      <td>58</td>\n",
       "      <td>10/12/2019</td>\n",
       "      <td>8:00:00 AM</td>\n",
       "      <td>8:00:00</td>\n",
       "      <td>8</td>\n",
       "      <td>0.81697</td>\n",
       "      <td>-0.57668</td>\n",
       "      <td>1140791</td>\n",
       "      <td>1932993</td>\n",
       "      <td>10.0</td>\n",
       "    </tr>\n",
       "    <tr>\n",
       "      <th>3</th>\n",
       "      <td>11858725</td>\n",
       "      <td>10/12/2019 8:00</td>\n",
       "      <td>610</td>\n",
       "      <td>BURGLARY</td>\n",
       "      <td>RESIDENCE</td>\n",
       "      <td>0</td>\n",
       "      <td>0</td>\n",
       "      <td>34</td>\n",
       "      <td>75</td>\n",
       "      <td>5</td>\n",
       "      <td>...</td>\n",
       "      <td>263</td>\n",
       "      <td>10/12/2019</td>\n",
       "      <td>8:00:00 AM</td>\n",
       "      <td>8:00:00</td>\n",
       "      <td>8</td>\n",
       "      <td>0.81697</td>\n",
       "      <td>-0.57668</td>\n",
       "      <td>1169388</td>\n",
       "      <td>1832816</td>\n",
       "      <td>10.0</td>\n",
       "    </tr>\n",
       "    <tr>\n",
       "      <th>4</th>\n",
       "      <td>11860087</td>\n",
       "      <td>10/12/2019 8:00</td>\n",
       "      <td>870</td>\n",
       "      <td>THEFT</td>\n",
       "      <td>OTHER</td>\n",
       "      <td>0</td>\n",
       "      <td>0</td>\n",
       "      <td>24</td>\n",
       "      <td>29</td>\n",
       "      <td>6</td>\n",
       "      <td>...</td>\n",
       "      <td>155</td>\n",
       "      <td>10/12/2019</td>\n",
       "      <td>8:00:00 AM</td>\n",
       "      <td>8:00:00</td>\n",
       "      <td>8</td>\n",
       "      <td>0.81697</td>\n",
       "      <td>-0.57668</td>\n",
       "      <td>1149926</td>\n",
       "      <td>1893578</td>\n",
       "      <td>10.0</td>\n",
       "    </tr>\n",
       "  </tbody>\n",
       "</table>\n",
       "<p>5 rows × 30 columns</p>\n",
       "</div>"
      ],
      "text/plain": [
       "         ID             Date  IUCR        CrimeType      LocationDescription  \\\n",
       "0  11858344  10/12/2019 8:00   820            THEFT                   STREET   \n",
       "1  11859895  10/12/2019 8:00  1310  CRIMINAL DAMAGE                RESIDENCE   \n",
       "2  11862656  10/12/2019 8:00  1310  CRIMINAL DAMAGE  SCHOOL, PUBLIC, GROUNDS   \n",
       "3  11858725  10/12/2019 8:00   610         BURGLARY                RESIDENCE   \n",
       "4  11860087  10/12/2019 8:00   870            THEFT                    OTHER   \n",
       "\n",
       "   Arrest  Domestic  Ward  CommunityArea FBICode  ...  PoliceBeats  \\\n",
       "0       0         0    35             16       6  ...           20   \n",
       "1       0         0     6             68      14  ...          214   \n",
       "2       0         0    45             11      14  ...           58   \n",
       "3       0         0    34             75       5  ...          263   \n",
       "4       0         0    24             29       6  ...          155   \n",
       "\n",
       "     OnlyDate        Time  time_hour  hourofday  sin_time  cos_time    XAxis  \\\n",
       "0  10/12/2019  8:00:00 AM    8:00:00          8   0.81697  -0.57668  1152059   \n",
       "1  10/12/2019  8:00:00 AM    8:00:00          8   0.81697  -0.57668  1174167   \n",
       "2  10/12/2019  8:00:00 AM    8:00:00          8   0.81697  -0.57668  1140791   \n",
       "3  10/12/2019  8:00:00 AM    8:00:00          8   0.81697  -0.57668  1169388   \n",
       "4  10/12/2019  8:00:00 AM    8:00:00          8   0.81697  -0.57668  1149926   \n",
       "\n",
       "     YAxis  Month  \n",
       "0  1924617   10.0  \n",
       "1  1858167   10.0  \n",
       "2  1932993   10.0  \n",
       "3  1832816   10.0  \n",
       "4  1893578   10.0  \n",
       "\n",
       "[5 rows x 30 columns]"
      ]
     },
     "execution_count": 5,
     "metadata": {},
     "output_type": "execute_result"
    }
   ],
   "source": [
    "#Define a new column \"Month\" because we also want to include month of the year and convert it to \"numeric\"\n",
    "\n",
    "crime_data_df[\"Month\"] = crime_data_df[\"Date\"].str.extract('(^\\d\\d)')\n",
    "\n",
    "crime_data_df[['Month']] = crime_data_df[['Month']].apply(pd.to_numeric)\n",
    "\n",
    "crime_data_df.dropna(subset=['IUCR'])\n",
    "crime_data_df.dropna(subset=['CommunityArea'])\n",
    "crime_data_df.dropna(subset=['PoliceBeats'])\n",
    "crime_data_df.dropna(subset=['Month'])\n",
    "crime_data_df.dropna(subset=['Arrest'])\n",
    "\n",
    "crime_data_df = crime_data_df.dropna(how = 'any')\n",
    "\n",
    "\n",
    "#Display the top five rows/records of the dataframe\n",
    "\n",
    "crime_data_df.head()"
   ]
  },
  {
   "cell_type": "code",
   "execution_count": 6,
   "metadata": {},
   "outputs": [
    {
     "data": {
      "text/plain": [
       "(256771, 30)"
      ]
     },
     "execution_count": 6,
     "metadata": {},
     "output_type": "execute_result"
    }
   ],
   "source": [
    "# Print the number of Rows in the Data Frame\n",
    "\n",
    "crime_data_df.shape"
   ]
  },
  {
   "cell_type": "code",
   "execution_count": 7,
   "metadata": {},
   "outputs": [
    {
     "data": {
      "text/html": [
       "<div>\n",
       "<style scoped>\n",
       "    .dataframe tbody tr th:only-of-type {\n",
       "        vertical-align: middle;\n",
       "    }\n",
       "\n",
       "    .dataframe tbody tr th {\n",
       "        vertical-align: top;\n",
       "    }\n",
       "\n",
       "    .dataframe thead th {\n",
       "        text-align: right;\n",
       "    }\n",
       "</style>\n",
       "<table border=\"1\" class=\"dataframe\">\n",
       "  <thead>\n",
       "    <tr style=\"text-align: right;\">\n",
       "      <th></th>\n",
       "      <th>ID</th>\n",
       "      <th>Date</th>\n",
       "      <th>IUCR</th>\n",
       "      <th>CrimeType</th>\n",
       "      <th>LocationDescription</th>\n",
       "      <th>Arrest</th>\n",
       "      <th>Domestic</th>\n",
       "      <th>Ward</th>\n",
       "      <th>CommunityArea</th>\n",
       "      <th>FBICode</th>\n",
       "      <th>...</th>\n",
       "      <th>Time</th>\n",
       "      <th>time_hour</th>\n",
       "      <th>hourofday</th>\n",
       "      <th>sin_time</th>\n",
       "      <th>cos_time</th>\n",
       "      <th>XAxis</th>\n",
       "      <th>YAxis</th>\n",
       "      <th>Month</th>\n",
       "      <th>sin_month</th>\n",
       "      <th>cos_month</th>\n",
       "    </tr>\n",
       "  </thead>\n",
       "  <tbody>\n",
       "    <tr>\n",
       "      <th>0</th>\n",
       "      <td>11858344</td>\n",
       "      <td>10/12/2019 8:00</td>\n",
       "      <td>820</td>\n",
       "      <td>THEFT</td>\n",
       "      <td>STREET</td>\n",
       "      <td>0</td>\n",
       "      <td>0</td>\n",
       "      <td>35</td>\n",
       "      <td>16</td>\n",
       "      <td>6</td>\n",
       "      <td>...</td>\n",
       "      <td>8:00:00 AM</td>\n",
       "      <td>8:00:00</td>\n",
       "      <td>8</td>\n",
       "      <td>0.81697</td>\n",
       "      <td>-0.57668</td>\n",
       "      <td>1152059</td>\n",
       "      <td>1924617</td>\n",
       "      <td>10.0</td>\n",
       "      <td>-0.866025</td>\n",
       "      <td>0.5</td>\n",
       "    </tr>\n",
       "    <tr>\n",
       "      <th>1</th>\n",
       "      <td>11859895</td>\n",
       "      <td>10/12/2019 8:00</td>\n",
       "      <td>1310</td>\n",
       "      <td>CRIMINAL DAMAGE</td>\n",
       "      <td>RESIDENCE</td>\n",
       "      <td>0</td>\n",
       "      <td>0</td>\n",
       "      <td>6</td>\n",
       "      <td>68</td>\n",
       "      <td>14</td>\n",
       "      <td>...</td>\n",
       "      <td>8:00:00 AM</td>\n",
       "      <td>8:00:00</td>\n",
       "      <td>8</td>\n",
       "      <td>0.81697</td>\n",
       "      <td>-0.57668</td>\n",
       "      <td>1174167</td>\n",
       "      <td>1858167</td>\n",
       "      <td>10.0</td>\n",
       "      <td>-0.866025</td>\n",
       "      <td>0.5</td>\n",
       "    </tr>\n",
       "    <tr>\n",
       "      <th>2</th>\n",
       "      <td>11862656</td>\n",
       "      <td>10/12/2019 8:00</td>\n",
       "      <td>1310</td>\n",
       "      <td>CRIMINAL DAMAGE</td>\n",
       "      <td>SCHOOL, PUBLIC, GROUNDS</td>\n",
       "      <td>0</td>\n",
       "      <td>0</td>\n",
       "      <td>45</td>\n",
       "      <td>11</td>\n",
       "      <td>14</td>\n",
       "      <td>...</td>\n",
       "      <td>8:00:00 AM</td>\n",
       "      <td>8:00:00</td>\n",
       "      <td>8</td>\n",
       "      <td>0.81697</td>\n",
       "      <td>-0.57668</td>\n",
       "      <td>1140791</td>\n",
       "      <td>1932993</td>\n",
       "      <td>10.0</td>\n",
       "      <td>-0.866025</td>\n",
       "      <td>0.5</td>\n",
       "    </tr>\n",
       "    <tr>\n",
       "      <th>3</th>\n",
       "      <td>11858725</td>\n",
       "      <td>10/12/2019 8:00</td>\n",
       "      <td>610</td>\n",
       "      <td>BURGLARY</td>\n",
       "      <td>RESIDENCE</td>\n",
       "      <td>0</td>\n",
       "      <td>0</td>\n",
       "      <td>34</td>\n",
       "      <td>75</td>\n",
       "      <td>5</td>\n",
       "      <td>...</td>\n",
       "      <td>8:00:00 AM</td>\n",
       "      <td>8:00:00</td>\n",
       "      <td>8</td>\n",
       "      <td>0.81697</td>\n",
       "      <td>-0.57668</td>\n",
       "      <td>1169388</td>\n",
       "      <td>1832816</td>\n",
       "      <td>10.0</td>\n",
       "      <td>-0.866025</td>\n",
       "      <td>0.5</td>\n",
       "    </tr>\n",
       "    <tr>\n",
       "      <th>4</th>\n",
       "      <td>11860087</td>\n",
       "      <td>10/12/2019 8:00</td>\n",
       "      <td>870</td>\n",
       "      <td>THEFT</td>\n",
       "      <td>OTHER</td>\n",
       "      <td>0</td>\n",
       "      <td>0</td>\n",
       "      <td>24</td>\n",
       "      <td>29</td>\n",
       "      <td>6</td>\n",
       "      <td>...</td>\n",
       "      <td>8:00:00 AM</td>\n",
       "      <td>8:00:00</td>\n",
       "      <td>8</td>\n",
       "      <td>0.81697</td>\n",
       "      <td>-0.57668</td>\n",
       "      <td>1149926</td>\n",
       "      <td>1893578</td>\n",
       "      <td>10.0</td>\n",
       "      <td>-0.866025</td>\n",
       "      <td>0.5</td>\n",
       "    </tr>\n",
       "  </tbody>\n",
       "</table>\n",
       "<p>5 rows × 32 columns</p>\n",
       "</div>"
      ],
      "text/plain": [
       "         ID             Date  IUCR        CrimeType      LocationDescription  \\\n",
       "0  11858344  10/12/2019 8:00   820            THEFT                   STREET   \n",
       "1  11859895  10/12/2019 8:00  1310  CRIMINAL DAMAGE                RESIDENCE   \n",
       "2  11862656  10/12/2019 8:00  1310  CRIMINAL DAMAGE  SCHOOL, PUBLIC, GROUNDS   \n",
       "3  11858725  10/12/2019 8:00   610         BURGLARY                RESIDENCE   \n",
       "4  11860087  10/12/2019 8:00   870            THEFT                    OTHER   \n",
       "\n",
       "   Arrest  Domestic  Ward  CommunityArea FBICode  ...        Time time_hour  \\\n",
       "0       0         0    35             16       6  ...  8:00:00 AM   8:00:00   \n",
       "1       0         0     6             68      14  ...  8:00:00 AM   8:00:00   \n",
       "2       0         0    45             11      14  ...  8:00:00 AM   8:00:00   \n",
       "3       0         0    34             75       5  ...  8:00:00 AM   8:00:00   \n",
       "4       0         0    24             29       6  ...  8:00:00 AM   8:00:00   \n",
       "\n",
       "   hourofday  sin_time  cos_time    XAxis    YAxis  Month  sin_month  \\\n",
       "0          8   0.81697  -0.57668  1152059  1924617   10.0  -0.866025   \n",
       "1          8   0.81697  -0.57668  1174167  1858167   10.0  -0.866025   \n",
       "2          8   0.81697  -0.57668  1140791  1932993   10.0  -0.866025   \n",
       "3          8   0.81697  -0.57668  1169388  1832816   10.0  -0.866025   \n",
       "4          8   0.81697  -0.57668  1149926  1893578   10.0  -0.866025   \n",
       "\n",
       "   cos_month  \n",
       "0        0.5  \n",
       "1        0.5  \n",
       "2        0.5  \n",
       "3        0.5  \n",
       "4        0.5  \n",
       "\n",
       "[5 rows x 32 columns]"
      ]
     },
     "execution_count": 7,
     "metadata": {},
     "output_type": "execute_result"
    }
   ],
   "source": [
    "#Add sin_month and cos_month because this is one way to determine the relative \"closeness\" of intermediate\n",
    "#values to the end values. For example, \"4\" is closer to \"1\"; \"7\" is closer to \"12\" and so on\n",
    "\n",
    "months_in_year=12\n",
    "crime_data_df['sin_month']=np.sin(2*np.pi*crime_data_df.Month/months_in_year)\n",
    "crime_data_df['cos_month']=np.cos(2*np.pi*crime_data_df.Month/months_in_year)\n",
    "\n",
    "#Display the top five rows/records of the dataframe\n",
    "\n",
    "crime_data_df.head()"
   ]
  },
  {
   "cell_type": "code",
   "execution_count": 8,
   "metadata": {},
   "outputs": [
    {
     "data": {
      "text/plain": [
       "(256771, 32)"
      ]
     },
     "execution_count": 8,
     "metadata": {},
     "output_type": "execute_result"
    }
   ],
   "source": [
    "# Print the number of Rows in the Data Frame\n",
    "\n",
    "crime_data_df.shape"
   ]
  },
  {
   "cell_type": "markdown",
   "metadata": {},
   "source": [
    "# The following Cell is left commented out "
   ]
  },
  {
   "cell_type": "code",
   "execution_count": 9,
   "metadata": {
    "scrolled": true
   },
   "outputs": [],
   "source": [
    "#Plot the sin-cosine scatter plot\n",
    "\n",
    "#crime_data_df.sample(1000).plot.scatter('sin_month','cos_month')"
   ]
  },
  {
   "cell_type": "markdown",
   "metadata": {},
   "source": [
    "# The following Cell is left commented out"
   ]
  },
  {
   "cell_type": "code",
   "execution_count": 10,
   "metadata": {},
   "outputs": [],
   "source": [
    "#plt.stem(crime_data_df['sin_month'],crime_data_df['cos_month'], 'r',use_line_collection=True )\n",
    "#plt.plot(x,y)"
   ]
  },
  {
   "cell_type": "code",
   "execution_count": 11,
   "metadata": {},
   "outputs": [],
   "source": [
    "### Splitting data for training and testing\n",
    "\n",
    "#From sklearn.cross_validation import train_test_split\n",
    "\n",
    "from sklearn.model_selection import train_test_split\n",
    "\n",
    "#Define the independent variables \"IUCR\", \"Community Area\" and time expressed as \"sin_time\" and \"cos_time\"\n",
    "\n",
    "feature_col_names = ['IUCR','CommunityArea','PoliceBeats','sin_time','cos_time','sin_month','cos_month']\n",
    "\n",
    "#Define the dependent variable \"Arrest\"\n",
    "\n",
    "predicted_class_names = ['Arrest']\n",
    "\n",
    "X = crime_data_df[feature_col_names].values\n",
    "\n",
    "y = crime_data_df[predicted_class_names].values # predicted class (1=true, 0=false) column (1 X m)\n",
    "\n",
    "split_test_size = 0.30\n",
    "\n",
    "X_train, X_test, y_train, y_test = train_test_split(X, y, test_size=split_test_size, random_state=42)\n",
    "\n",
    "#split_test_size = 0.3 is 30%, 42 is the answer to everything"
   ]
  },
  {
   "cell_type": "code",
   "execution_count": 12,
   "metadata": {
    "scrolled": true
   },
   "outputs": [
    {
     "name": "stdout",
     "output_type": "stream",
     "text": [
      "70.00% in training set\n",
      "30.00% in test set\n"
     ]
    }
   ],
   "source": [
    "##Check to ensure we have the the desired 70% train, 30% test split of the data\n",
    "\n",
    "print(\"{0:0.2f}% in training set\".format((len(X_train)/len(crime_data_df.index)) * 100))\n",
    "print(\"{0:0.2f}% in test set\".format((len(X_test)/len(crime_data_df.index)) * 100))"
   ]
  },
  {
   "cell_type": "code",
   "execution_count": 13,
   "metadata": {},
   "outputs": [],
   "source": [
    "from sklearn import metrics"
   ]
  },
  {
   "cell_type": "code",
   "execution_count": 14,
   "metadata": {
    "scrolled": true
   },
   "outputs": [
    {
     "name": "stdout",
     "output_type": "stream",
     "text": [
      "Original True  : 50398 (19.63%)\n",
      "Original False : 206373 (80.37%)\n",
      "\n",
      "Training True  : 35392 (19.69%)\n",
      "Training False : 144347 (80.31%)\n",
      "\n",
      "Test True      : 15006 (19.48%)\n",
      "Test False     : 62026 (80.52%)\n"
     ]
    }
   ],
   "source": [
    "print(\"Original True  : {0} ({1:0.2f}%)\".format(len(crime_data_df.loc[crime_data_df['Arrest'] == 1]), (len(crime_data_df.loc[crime_data_df['Arrest'] == 1])/len(crime_data_df.index)) * 100.0))\n",
    "print(\"Original False : {0} ({1:0.2f}%)\".format(len(crime_data_df.loc[crime_data_df['Arrest'] == 0]), (len(crime_data_df.loc[crime_data_df['Arrest'] == 0])/len(crime_data_df.index)) * 100.0))\n",
    "print(\"\")\n",
    "print(\"Training True  : {0} ({1:0.2f}%)\".format(len(y_train[y_train[:] == 1]), (len(y_train[y_train[:] == 1])/len(y_train) * 100.0)))\n",
    "print(\"Training False : {0} ({1:0.2f}%)\".format(len(y_train[y_train[:] == 0]), (len(y_train[y_train[:] == 0])/len(y_train) * 100.0)))\n",
    "print(\"\")\n",
    "print(\"Test True      : {0} ({1:0.2f}%)\".format(len(y_test[y_test[:] == 1]), (len(y_test[y_test[:] == 1])/len(y_test) * 100.0)))\n",
    "print(\"Test False     : {0} ({1:0.2f}%)\".format(len(y_test[y_test[:] == 0]), (len(y_test[y_test[:] == 0])/len(y_test) * 100.0)))"
   ]
  },
  {
   "cell_type": "markdown",
   "metadata": {},
   "source": [
    "### Naive Bayes algorithm"
   ]
  },
  {
   "cell_type": "code",
   "execution_count": 15,
   "metadata": {
    "scrolled": true
   },
   "outputs": [
    {
     "data": {
      "text/plain": [
       "GaussianNB(priors=None, var_smoothing=1e-09)"
      ]
     },
     "execution_count": 15,
     "metadata": {},
     "output_type": "execute_result"
    }
   ],
   "source": [
    "#### Fitting the model\n",
    "from sklearn.naive_bayes import GaussianNB\n",
    "\n",
    "# create Gaussian Naive Bayes model object and train it with the data\n",
    "nb_model = GaussianNB()\n",
    "\n",
    "nb_model.fit(X_train, y_train.ravel())"
   ]
  },
  {
   "cell_type": "code",
   "execution_count": 16,
   "metadata": {},
   "outputs": [
    {
     "name": "stdout",
     "output_type": "stream",
     "text": [
      "Naive Bayes Training Accuracy: 0.7708\n",
      "\n"
     ]
    }
   ],
   "source": [
    "# predict values using the training data\n",
    "nb_predict_train = nb_model.predict(X_train)\n",
    "\n",
    "# import the performance metrics library\n",
    "from sklearn import metrics\n",
    "\n",
    "# Accuracy\n",
    "print(\"Naive Bayes Training Accuracy: {0:.4f}\".format(metrics.accuracy_score(y_train, nb_predict_train)))\n",
    "print()"
   ]
  },
  {
   "cell_type": "code",
   "execution_count": 17,
   "metadata": {},
   "outputs": [
    {
     "name": "stdout",
     "output_type": "stream",
     "text": [
      "nb_predict_test [0 0 0 ... 0 0 0]\n",
      "y_test [[0]\n",
      " [0]\n",
      " [0]\n",
      " ...\n",
      " [0]\n",
      " [0]\n",
      " [0]]\n",
      "Naive Bayes Testing Accuracy: 0.7725\n"
     ]
    }
   ],
   "source": [
    "# predict values using the testing data\n",
    "nb_predict_test = nb_model.predict(X_test)\n",
    "\n",
    "from sklearn import metrics\n",
    "\n",
    "# training metrics\n",
    "print(\"nb_predict_test\", nb_predict_test)\n",
    "print (\"y_test\", y_test)\n",
    "print(\"Naive Bayes Testing Accuracy: {0:.4f}\".format(metrics.accuracy_score(y_test, nb_predict_test)))"
   ]
  },
  {
   "cell_type": "code",
   "execution_count": 18,
   "metadata": {},
   "outputs": [
    {
     "name": "stdout",
     "output_type": "stream",
     "text": [
      "tn: 58396   fp: 3630\n",
      "fn: 13893   tp: 1113\n"
     ]
    }
   ],
   "source": [
    "#Write the values of TP, FP, FN and TP\n",
    "\n",
    "tn, fp, fn, tp = metrics.confusion_matrix(y_test, nb_predict_test).ravel()\n",
    "print(f\"tn: {tn:3d}   fp: {fp:3d}\")\n",
    "print(f\"fn: {fn:3d}   tp: {tp:3d}\")"
   ]
  },
  {
   "cell_type": "code",
   "execution_count": 19,
   "metadata": {},
   "outputs": [
    {
     "name": "stdout",
     "output_type": "stream",
     "text": [
      "Naive Bayes Confusion Matrix\n",
      "\n",
      "[[58396  3630]\n",
      " [13893  1113]]\n",
      "\n",
      "Naive Bayes Classification Report\n",
      "\n",
      "              precision    recall  f1-score   support\n",
      "\n",
      "           0       0.81      0.94      0.87     62026\n",
      "           1       0.23      0.07      0.11     15006\n",
      "\n",
      "    accuracy                           0.77     77032\n",
      "   macro avg       0.52      0.51      0.49     77032\n",
      "weighted avg       0.70      0.77      0.72     77032\n",
      "\n"
     ]
    }
   ],
   "source": [
    "print(\"Naive Bayes Confusion Matrix\")\n",
    "print(\"\")\n",
    "print(\"{0}\".format(metrics.confusion_matrix(y_test, nb_predict_test)))\n",
    "print(\"\")\n",
    "print(\"Naive Bayes Classification Report\")\n",
    "print(\"\")\n",
    "\n",
    "print(metrics.classification_report(y_test, nb_predict_test))"
   ]
  },
  {
   "cell_type": "code",
   "execution_count": 20,
   "metadata": {},
   "outputs": [
    {
     "name": "stderr",
     "output_type": "stream",
     "text": [
      "C:\\Users\\rames\\Anaconda3\\envs\\PythonData\\lib\\site-packages\\sklearn\\externals\\joblib\\__init__.py:15: DeprecationWarning: sklearn.externals.joblib is deprecated in 0.21 and will be removed in 0.23. Please import this functionality directly from joblib, which can be installed with: pip install joblib. If this warning is raised when loading pickled models, you may need to re-serialize those models with scikit-learn 0.21+.\n",
      "  warnings.warn(msg, category=DeprecationWarning)\n"
     ]
    },
    {
     "data": {
      "text/plain": [
       "['./chicago-crime-trained-model-NB-Ramesh.pkl']"
      ]
     },
     "execution_count": 20,
     "metadata": {},
     "output_type": "execute_result"
    }
   ],
   "source": [
    "### save the trained model into a file\n",
    "from sklearn.externals import joblib\n",
    "\n",
    "joblib.dump(nb_model, \"./chicago-crime-trained-model-NB-Ramesh.pkl\")"
   ]
  },
  {
   "cell_type": "markdown",
   "metadata": {},
   "source": [
    "# Plotting the Naive Bayes plot"
   ]
  },
  {
   "cell_type": "code",
   "execution_count": 21,
   "metadata": {},
   "outputs": [
    {
     "name": "stderr",
     "output_type": "stream",
     "text": [
      "C:\\Users\\rames\\Anaconda3\\envs\\PythonData\\lib\\site-packages\\sklearn\\model_selection\\_split.py:1978: FutureWarning: The default value of cv will change from 3 to 5 in version 0.22. Specify it explicitly to silence this warning.\n",
      "  warnings.warn(CV_WARNING, FutureWarning)\n",
      "C:\\Users\\rames\\Anaconda3\\envs\\PythonData\\lib\\site-packages\\sklearn\\utils\\validation.py:724: DataConversionWarning: A column-vector y was passed when a 1d array was expected. Please change the shape of y to (n_samples, ), for example using ravel().\n",
      "  y = column_or_1d(y, warn=True)\n",
      "C:\\Users\\rames\\Anaconda3\\envs\\PythonData\\lib\\site-packages\\sklearn\\utils\\validation.py:724: DataConversionWarning: A column-vector y was passed when a 1d array was expected. Please change the shape of y to (n_samples, ), for example using ravel().\n",
      "  y = column_or_1d(y, warn=True)\n",
      "C:\\Users\\rames\\Anaconda3\\envs\\PythonData\\lib\\site-packages\\sklearn\\utils\\validation.py:724: DataConversionWarning: A column-vector y was passed when a 1d array was expected. Please change the shape of y to (n_samples, ), for example using ravel().\n",
      "  y = column_or_1d(y, warn=True)\n"
     ]
    },
    {
     "data": {
      "image/png": "[encoded data removed]",
      "text/plain": [
       "<Figure size 432x288 with 2 Axes>"
      ]
     },
     "metadata": {
      "needs_background": "light"
     },
     "output_type": "display_data"
    }
   ],
   "source": [
    "from sklearn.model_selection import cross_val_predict\n",
    "predictions = cross_val_predict(nb_model, X, y)\n",
    "\n",
    "import scikitplot as skplt\n",
    "skplt.metrics.plot_confusion_matrix(y, predictions, normalize=True)\n",
    "\n",
    "plt.title(\"Naive Bayes Algorithm\", fontsize = 18)\n",
    "\n",
    "# Save figure\n",
    "\n",
    "plt.savefig(\"naive_bayes_confusion_matrix.png\", bbox_inches=\"tight\")\n",
    "\n",
    "plt.show()"
   ]
  },
  {
   "cell_type": "code",
   "execution_count": null,
   "metadata": {},
   "outputs": [],
   "source": []
  }
 ],
 "metadata": {
  "kernelspec": {
   "display_name": "Python [conda env:PythonData] *",
   "language": "python",
   "name": "conda-env-PythonData-py"
  },
  "language_info": {
   "codemirror_mode": {
    "name": "ipython",
    "version": 3
   },
   "file_extension": ".py",
   "mimetype": "text/x-python",
   "name": "python",
   "nbconvert_exporter": "python",
   "pygments_lexer": "ipython3",
   "version": "3.6.8"
  }
 },
 "nbformat": 4,
 "nbformat_minor": 2
}
